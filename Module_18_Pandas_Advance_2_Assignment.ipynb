{
  "nbformat": 4,
  "nbformat_minor": 0,
  "metadata": {
    "colab": {
      "provenance": []
    },
    "kernelspec": {
      "name": "python3",
      "display_name": "Python 3"
    },
    "language_info": {
      "name": "python"
    }
  },
  "cells": [
    {
      "cell_type": "markdown",
      "source": [
        "Consider following code to answer further questions:\n",
        "import pandas as pd\n",
        "course_name = [‘Data Science’, ‘Machine Learning’, ‘Big Data’, ‘Data Engineer’]\n",
        "duration = [2,3,6,4]\n",
        "df = pd.DataFrame(data = {‘course_name’ : course_name, ‘duration’ : duration})\n",
        "Q1. Write a code to print the data present in the second row of the dataframe, df."
      ],
      "metadata": {
        "id": "S1_ftsIx0Qyr"
      }
    },
    {
      "cell_type": "code",
      "source": [
        "import pandas as pd\n",
        "\n",
        "# Given DataFrame\n",
        "course_name = ['Data Science', 'Machine Learning', 'Big Data', 'Data Engineer']\n",
        "duration = [2, 3, 6, 4]\n",
        "df = pd.DataFrame(data={'course_name': course_name, 'duration': duration})\n",
        "\n",
        "# Print data present in the second row using iloc\n",
        "print(\"Data present in the second row:\")\n",
        "print(df.iloc[1])  # iloc is used to access rows by integer location"
      ],
      "metadata": {
        "id": "ZsamLt_k0ScN"
      },
      "execution_count": null,
      "outputs": []
    },
    {
      "cell_type": "markdown",
      "source": [
        "Q2. What is the difference between the functions loc and iloc in pandas.DataFrame?"
      ],
      "metadata": {
        "id": "RLQs3z3-0X44"
      }
    },
    {
      "cell_type": "markdown",
      "source": [
        "loc: loc is label-based, which means that you have to specify rows and columns based on their row and column labels.\n",
        "iloc: iloc is integer-location based, which means that you have to specify rows and columns by their integer index."
      ],
      "metadata": {
        "id": "nprxCAjh0d0R"
      }
    },
    {
      "cell_type": "markdown",
      "source": [
        "Q3. Reindex the given dataframe using a variable, reindex = [3,0,1,2] and store it in the variable, new_df\n",
        "then find the output for both new_df.loc[2] and new_df.iloc[2]."
      ],
      "metadata": {
        "id": "pi0LUz5c0gUK"
      }
    },
    {
      "cell_type": "code",
      "source": [
        "# Reindex the DataFrame\n",
        "reindex = [3, 0, 1, 2]\n",
        "new_df = df.reindex(reindex)\n",
        "\n",
        "# Output for new_df.loc[2] and new_df.iloc[2]\n",
        "print(\"Output for new_df.loc[2]:\")\n",
        "print(new_df.loc[2])  # Access row with label 2\n",
        "print(\"\\nOutput for new_df.iloc[2]:\")\n",
        "print(new_df.iloc[2])  # Access row with integer index 2"
      ],
      "metadata": {
        "id": "HBST4qBw0m80"
      },
      "execution_count": null,
      "outputs": []
    },
    {
      "cell_type": "markdown",
      "source": [
        "Q4. Write a code to find the following statistical measurements for the above dataframe df1:\n",
        "(i) mean of each and every column present in the dataframe.\n",
        "(ii) standard deviation of column, ‘column_2’"
      ],
      "metadata": {
        "id": "idi6J2Hy1HV9"
      }
    },
    {
      "cell_type": "code",
      "source": [
        "import pandas as pd\n",
        "import numpy as np\n",
        "\n",
        "# Given DataFrame\n",
        "columns = ['column_1', 'column_2', 'column_3', 'column_4', 'column_5', 'column_6']\n",
        "indices = [1, 2, 3, 4, 5, 6]\n",
        "df1 = pd.DataFrame(np.random.rand(6, 6), columns=columns, index=indices)\n",
        "\n",
        "# (i) Mean of each column\n",
        "mean_of_columns = df1.mean()\n",
        "print(\"Mean of each column:\")\n",
        "print(mean_of_columns)\n",
        "\n",
        "# (ii) Standard deviation of column 'column_2'\n",
        "std_dev_column_2 = df1['column_2'].std()\n",
        "print(\"\\nStandard deviation of column 'column_2':\")\n",
        "print(std_dev_column_2)"
      ],
      "metadata": {
        "id": "W_tZMbrm1M3r"
      },
      "execution_count": null,
      "outputs": []
    },
    {
      "cell_type": "markdown",
      "source": [
        "Q5. Replace the data present in the second row of column, ‘column_2’ by a string variable then find the\n",
        "mean of column, column_2.\n",
        "If you are getting errors in executing it then explain why.\n",
        "[Hint: To replace the data use df1.loc[] and equate this to string data of your choice.]"
      ],
      "metadata": {
        "id": "ZoyMLbzs1OVi"
      }
    },
    {
      "cell_type": "code",
      "source": [
        "# Replace data in the second row of column 'column_2' with a string variable\n",
        "df1.loc[2, 'column_2'] = 'string_value'\n",
        "\n",
        "# Attempt to find the mean of column 'column_2'\n",
        "mean_column_2 = df1['column_2'].mean()\n",
        "print(\"\\nMean of column 'column_2' after replacing data:\")\n",
        "print(mean_column_2)"
      ],
      "metadata": {
        "id": "37rzewO01RMT"
      },
      "execution_count": null,
      "outputs": []
    },
    {
      "cell_type": "markdown",
      "source": [
        "Q6. What do you understand about the windows function in pandas and list the types of windows\n",
        "functions?"
      ],
      "metadata": {
        "id": "F0jkX8YF1T8K"
      }
    },
    {
      "cell_type": "markdown",
      "source": [
        "the \"window function\" refers to a group of functions that perform calculations on a set of data points within a specified window or range. These functions are applied to a series or DataFrame and allow for operations like rolling averages, rolling sums, and other aggregate calculations over a moving window of data."
      ],
      "metadata": {
        "id": "UV-eaFED1b5j"
      }
    },
    {
      "cell_type": "markdown",
      "source": [
        "Q7. Write a code to print only the current month and year at the time of answering this question.\n",
        "[Hint: Use pandas.datetime function]"
      ],
      "metadata": {
        "id": "b6i1lfI11pEA"
      }
    },
    {
      "cell_type": "code",
      "source": [
        "import pandas as pd\n",
        "\n",
        "# Get current date\n",
        "current_date = pd.Timestamp.now()\n",
        "\n",
        "# Extract current month and year\n",
        "current_month = current_date.month\n",
        "current_year = current_date.year\n",
        "\n",
        "# Print current month and year\n",
        "print(\"Current month:\", current_month)\n",
        "print(\"Current year:\", current_year)"
      ],
      "metadata": {
        "id": "WGp44IH11rNn"
      },
      "execution_count": null,
      "outputs": []
    },
    {
      "cell_type": "markdown",
      "source": [
        "Q8. Write a Python program that takes in two dates as input (in the format YYYY-MM-DD) and\n",
        "calculates the difference between them in days, hours, and minutes using Pandas time delta. The\n",
        "program should prompt the user to enter the dates and display the result."
      ],
      "metadata": {
        "id": "EK4xKeJY1umu"
      }
    },
    {
      "cell_type": "code",
      "source": [
        "import pandas as pd\n",
        "\n",
        "def calculate_time_difference(start_date, end_date):\n",
        "    # Convert input dates to Pandas Timestamp objects\n",
        "    start_date = pd.to_datetime(start_date)\n",
        "    end_date = pd.to_datetime(end_date)\n",
        "\n",
        "    # Calculate time difference\n",
        "    time_difference = end_date - start_date\n",
        "\n",
        "    # Extract days, hours, and minutes from the time difference\n",
        "    days = time_difference.days\n",
        "    hours = time_difference.seconds // 3600\n",
        "    minutes = (time_difference.seconds % 3600) // 60\n",
        "\n",
        "    return days, hours, minutes\n",
        "\n",
        "# Prompt the user to enter two dates\n",
        "start_date = input(\"Enter the start date (YYYY-MM-DD): \")\n",
        "end_date = input(\"Enter the end date (YYYY-MM-DD): \")\n",
        "\n",
        "# Calculate the time difference\n",
        "days, hours, minutes = calculate_time_difference(start_date, end_date)\n",
        "\n",
        "# Display the result\n",
        "print(\"Time difference:\")\n",
        "print(f\"Days: {days}\")\n",
        "print(f\"Hours: {hours}\")\n",
        "print(f\"Minutes: {minutes}\")"
      ],
      "metadata": {
        "id": "u0gojUVa16em"
      },
      "execution_count": null,
      "outputs": []
    },
    {
      "cell_type": "markdown",
      "source": [
        "Q9. Write a Python program that reads a CSV file containing categorical data and converts a specified\n",
        "column to a categorical data type. The program should prompt the user to enter the file path, column\n",
        "name, and category order, and then display the sorted data."
      ],
      "metadata": {
        "id": "lf_478y72Dq-"
      }
    },
    {
      "cell_type": "code",
      "source": [
        "import pandas as pd\n",
        "\n",
        "def convert_column_to_categorical(df, column_name, category_order):\n",
        "    # Convert specified column to categorical data type with specified category order\n",
        "    df[column_name] = pd.Categorical(df[column_name], categories=category_order, ordered=True)\n",
        "\n",
        "    return df\n",
        "\n",
        "# Prompt the user to enter the file path, column name, and category order\n",
        "file_path = input(\"Enter the file path of the CSV file: \")\n",
        "column_name = input(\"Enter the name of the column to convert to categorical: \")\n",
        "category_order = input(\"Enter the category order separated by commas (e.g., category1,category2,category3): \").split(',')\n",
        "\n",
        "# Read the CSV file into a DataFrame\n",
        "df = pd.read_csv(file_path)\n",
        "\n",
        "# Convert specified column to categorical data type\n",
        "df = convert_column_to_categorical(df, column_name, category_order)\n",
        "\n",
        "# Display the sorted data\n",
        "sorted_data = df.sort_values(by=column_name)\n",
        "print(\"Sorted Data:\")\n",
        "print(sorted_data)\n"
      ],
      "metadata": {
        "id": "m9SUp4U-2Eo8"
      },
      "execution_count": null,
      "outputs": []
    },
    {
      "cell_type": "markdown",
      "source": [
        "Q10. Write a Python program that reads a CSV file containing sales data for different products and\n",
        "visualizes the data using a stacked bar chart to show the sales of each product category over time. The\n",
        "program should prompt the user to enter the file path and display the chart."
      ],
      "metadata": {
        "id": "TtRgHzsm2MRy"
      }
    },
    {
      "cell_type": "code",
      "source": [
        "import pandas as pd\n",
        "import matplotlib.pyplot as plt\n",
        "\n",
        "def visualize_sales_data(file_path):\n",
        "    # Read the CSV file into a DataFrame\n",
        "    df = pd.read_csv(file_path)\n",
        "\n",
        "    # Convert the 'Date' column to datetime format\n",
        "    df['Date'] = pd.to_datetime(df['Date'])\n",
        "\n",
        "    # Group the data by 'Date' and 'Product Category' and sum the sales\n",
        "    sales_data = df.groupby(['Date', 'Product Category'])['Sales'].sum().unstack()\n",
        "\n",
        "    # Plot the stacked bar chart\n",
        "    sales_data.plot(kind='bar', stacked=True, figsize=(10, 6))\n",
        "    plt.title('Sales of Each Product Category Over Time')\n",
        "    plt.xlabel('Date')\n",
        "    plt.ylabel('Sales')\n",
        "    plt.xticks(rotation=45)\n",
        "    plt.legend(title='Product Category')\n",
        "    plt.tight_layout()\n",
        "    plt.show()\n",
        "\n",
        "# Prompt the user to enter the file path of the CSV file\n",
        "file_path = input(\"Enter the file path of the CSV file: \")\n",
        "\n",
        "# Visualize the sales data\n",
        "visualize_sales_data(file_path)"
      ],
      "metadata": {
        "id": "OKIDlSrQ2Pmw"
      },
      "execution_count": null,
      "outputs": []
    },
    {
      "cell_type": "markdown",
      "source": [
        "Q11. You are given a CSV file containing student data that includes the student ID and their test score. Write\n",
        "a Python program that reads the CSV file, calculates the mean, median, and mode of the test scores, and\n",
        "displays the results in a table.\n",
        "The program should do the followingM\n",
        "I Prompt the user to enter the file path of the CSV file containing the student dataR\n",
        "I Read the CSV file into a Pandas DataFrameR\n",
        "I Calculate the mean, median, and mode of the test scores using Pandas toolsR\n",
        "I Display the mean, median, and mode in a table.\n",
        "Assume the CSV file contains the following columnsM\n",
        "I Student ID: The ID of the studentR\n",
        "I Test Score: The score of the student's test.\n",
        "Example usage of the program:\n",
        "Enter the file path of the CSV file containing the student data: student_data.csv\n",
        "+-----------+--------+\n",
        "| Statistic | Value |\n",
        "+-----------+--------+\n",
        "| Mean | 79.6 |\n",
        "| Median | 82 |\n",
        "| Mode | 85, 90 |\n",
        "+-----------+--------+\n",
        "Assume that the CSV file student_data.csv contains the following data:\n",
        "Student ID,Test Score\n",
        "1,85\n",
        "2,90\n",
        "3,80\n",
        "4,75\n",
        "5,85\n",
        "6,82\n",
        "7,78\n",
        "8,85\n",
        "9,90\n",
        "10,85\n",
        "The program should calculate the mean, median, and mode of the test scores and display the results\n",
        "in a table."
      ],
      "metadata": {
        "id": "boGNFlYr2X75"
      }
    },
    {
      "cell_type": "code",
      "source": [
        "import pandas as pd\n",
        "from tabulate import tabulate\n",
        "\n",
        "def calculate_statistics(file_path):\n",
        "    # Read the CSV file into a Pandas DataFrame\n",
        "    df = pd.read_csv(file_path)\n",
        "\n",
        "    # Calculate mean, median, and mode of test scores\n",
        "    mean_score = df['Test Score'].mean()\n",
        "    median_score = df['Test Score'].median()\n",
        "    mode_score = df['Test Score'].mode()\n",
        "\n",
        "    # Display the statistics in a table\n",
        "    statistics_table = [['Mean', mean_score], ['Median', median_score], ['Mode', ', '.join(map(str, mode_score))]]\n",
        "    print(tabulate(statistics_table, headers=['Statistic', 'Value'], tablefmt='grid'))\n",
        "\n",
        "# Prompt the user to enter the file path of the CSV file containing student data\n",
        "file_path = input(\"Enter the file path of the CSV file containing the student data: \")\n",
        "\n",
        "# Calculate and display statistics\n",
        "calculate_statistics(file_path)"
      ],
      "metadata": {
        "id": "zBBZhyZN2daA"
      },
      "execution_count": null,
      "outputs": []
    }
  ]
}